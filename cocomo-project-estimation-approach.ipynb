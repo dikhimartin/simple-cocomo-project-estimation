{
 "cells": [
  {
   "cell_type": "markdown",
   "metadata": {},
   "source": [
    "# COCOMO Project Estimation Approach\n",
    "\n",
    "## Project Overview\n",
    "In this project, we are tasked with estimating the effort required for the development of a healthcare app. The critical features include registration, viewing doctors' schedules, making appointments, and ordering prescription refills."
   ]
  },
  {
   "cell_type": "markdown",
   "metadata": {},
   "source": [
    "### Step 1: Import necessary libraries"
   ]
  },
  {
   "cell_type": "code",
   "execution_count": 147,
   "metadata": {},
   "outputs": [],
   "source": [
    "import math\n",
    "import pandas as pd\n",
    "import matplotlib.pyplot as plt"
   ]
  },
  {
   "cell_type": "markdown",
   "metadata": {},
   "source": [
    "These libraries will be used for mathematical calculations, data manipulation, and visualization."
   ]
  },
  {
   "cell_type": "markdown",
   "metadata": {},
   "source": [
    "### Step 2: Function to calculate COCOMO estimates"
   ]
  },
  {
   "cell_type": "code",
   "execution_count": 148,
   "metadata": {},
   "outputs": [],
   "source": [
    "def calculate_effort(kloc, em, days_in_a_month):\n",
    "    # Effort in person-months\n",
    "    effort_pm = kloc * em\n",
    "    # Convert to person-days\n",
    "    effort_days = effort_pm * days_in_a_month\n",
    "\n",
    "    # Print the results\n",
    "    print(\"Effort estimate using COCOMO\")\n",
    "    print(\"--------------------------------------\")\n",
    "    print(f\"Lines of code (KLOC): {kloc}\")\n",
    "    print(f\"Effort multiplier (EM): {em}\")\n",
    "    print(f\"Estimated effort : {effort_days:.2f} person-days\")\n",
    "    print(f\"Estimated effort : {effort_pm:.2f} person-months\")\n",
    "    return effort_days"
   ]
  },
  {
   "cell_type": "markdown",
   "metadata": {},
   "source": [
    "This function calculates the effort required in person-days based on lines of code (KLOC) and effort multiplier (EM).\n",
    "\n",
    "The number 22 in the equation `effort_days = effort_pm * 22` is an estimate of the number of working days in one month. This number is based on the assumption that the average person works 5 days a week and 8 hours a day, with weekends and national holidays off. Therefore, there are about 22 working days in one month.\n",
    "\n",
    "The equation `effort_days = effort_pm * 22` is used to convert an effort estimate in person-months to an effort estimate in person-days. This is done because most software projects are measured in person-days, not person-months.\n",
    "\n",
    "Here is an example:\n",
    "\n",
    "- If the effort estimate in person-months is 2, then the effort estimate in person-days is:\n",
    "    ```\n",
    "    effort_days = 2 * 22 = 44\n",
    "    ```\n",
    "\n",
    "This means that the project is estimated to take 44 working days to complete.\n",
    "\n",
    "It is important to note that this number 22 is only an estimate and can vary depending on certain factors, such as:\n",
    "\n",
    "- Hours worked per day\n",
    "- Number of holidays\n",
    "- National holidays\n",
    "\n",
    "Therefore, it is important to adjust this number 22 based on the specific conditions of our project.\n"
   ]
  },
  {
   "cell_type": "markdown",
   "metadata": {},
   "source": [
    "### Step 3: Project Parameters"
   ]
  },
  {
   "cell_type": "code",
   "execution_count": 149,
   "metadata": {},
   "outputs": [],
   "source": [
    "# Project parameters\n",
    "kloc = 300            # Estimated lines of code (KLOC)\n",
    "em = 1.05            # Effort multiplier (organic mode)\n",
    "days_in_a_month = 22 # Estimatd of the number of working days"
   ]
  },
  {
   "cell_type": "markdown",
   "metadata": {},
   "source": [
    "Setting up parameters for the project, including estimated lines of code and the chosen effort multiplier for the organic mode.\n",
    "\n",
    " **Understanding the Effort Multiplier (EM):**\n",
    "- **EM is not determined based on individual roles.** It's a factor that takes into account project-level attributes that can influence effort, such as:\n",
    "  - Team experience\n",
    "  - Product complexity\n",
    "  - Required reliability\n",
    "  - Use of modern programming practices\n",
    "  - Development tools\n",
    "- **COCOMO provides three modes for determining EM:**\n",
    "  - Organic mode (small teams, familiar with the problem domain): EM = 1.05\n",
    "  - Semi-detached mode (intermediate team size and experience): EM = 1.12\n",
    "  - Embedded mode (tight constraints, high reliability needs): EM = 1.20\n",
    "\n",
    "**For this project, we assumed organic mode (EM = 1.05) based on the following factors:**\n",
    "\n",
    "- Small team size\n",
    "- New development project\n",
    "- Team familiarity with healthcare app development\n",
    "\n",
    "**If any of these factors change, the EM value may need re-evaluation.**\n",
    "\n",
    "**Key Points:**\n",
    "\n",
    "- Staffing needs are based on estimated effort and project timelines.\n",
    "- EM is a project-level factor, not role-specific.\n",
    "- Choose COCOMO mode based on project characteristics.\n",
    "- Reassess estimates and EM as the project evolves.\n",
    "\n",
    "**Recommendations:**\n",
    "\n",
    "- Regularly review estimates and staffing needs.\n",
    "- Involve team members in estimation and planning.\n",
    "- Use project management tools to track progress and adjust resources as needed.\n",
    "- Communicate effectively with stakeholders about project progress and resource requirements."
   ]
  },
  {
   "cell_type": "markdown",
   "metadata": {},
   "source": [
    "### Step 4: Calculate effort using COCOMO"
   ]
  },
  {
   "cell_type": "code",
   "execution_count": 151,
   "metadata": {},
   "outputs": [
    {
     "name": "stdout",
     "output_type": "stream",
     "text": [
      "Effort estimate using COCOMO\n",
      "--------------------------------------\n",
      "Lines of code (KLOC): 300\n",
      "Effort multiplier (EM): 1.05\n",
      "Estimated effort : 6930.00 person-days\n",
      "Estimated effort : 315.00 person-months\n"
     ]
    }
   ],
   "source": [
    "# Calculate effort using COCOMO\n",
    "effort_days = calculate_effort(kloc, em, days_in_a_month)"
   ]
  },
  {
   "cell_type": "markdown",
   "metadata": {},
   "source": [
    "Applying the COCOMO model to estimate the effort required in person-days.\n",
    "\n",
    "Explanation :\n",
    "\n",
    "- The estimation is based on COCOMO, a widely used software cost estimation model.\n",
    "- The KLOC value is an estimate based on the project scope and complexity.\n",
    "- The EM value is chosen for organic mode, which is typical for new development projects.\n",
    "- The estimated effort provides a starting point for project planning and resource allocation."
   ]
  },
  {
   "cell_type": "markdown",
   "metadata": {},
   "source": [
    "### Step 5 : Calculate development time using the organic mode formula"
   ]
  },
  {
   "cell_type": "code",
   "execution_count": 160,
   "metadata": {},
   "outputs": [
    {
     "name": "stdout",
     "output_type": "stream",
     "text": [
      "Development Time: 22.25 months\n"
     ]
    }
   ],
   "source": [
    "# Calculate development time using the organic mode formula\n",
    "c = 2.5\n",
    "d = 0.38\n",
    "\n",
    "development_time = c * math.pow(effort_days / days_in_a_month, d)  # Months\n",
    "\n",
    "# Print the result\n",
    "print(f\"Development Time: {development_time:.2f} months\")"
   ]
  },
  {
   "cell_type": "markdown",
   "metadata": {},
   "source": [
    "Using the organic mode coefficients to calculate the estimated development time in months.\n",
    "Formula : \n",
    "```\n",
    "Development Time = c*(Effort)^d \n",
    "```\n",
    "\n",
    "\n",
    "Coefficients for intermediate COCOMO \n",
    "| Project      | ai   | bi   | ci   | di   |\n",
    "| :----------- | :--- | :--- | :--- | :--- |\n",
    "| Organic      | 2.4  | 1.05 | 2.5  | 0.38 |\n",
    "| Semidetached | 3.0  | 1.12 | 2.5  | 0.35 |\n",
    "| Embedded     | 3.6  | 1.20 | 2.5  | 0.32 |\n",
    "\n",
    "GeeksforGeeks. (2023, December 26). *COCOMO Model Software Engineering*. https://www.geeksforgeeks.org/software-engineering-cocomo-model/\n",
    "\n",
    "Explanation : \n",
    "- `c` and `d` are constant coefficients that depend on the COCOMO mode (organic, semi-detached, or embedded).\n",
    "- Effort i sthe total estimated effort in man-days (In our case, we have already performed the calculation in step 4).\n",
    "\n",
    "According to the organic mode Coefficients :\n",
    "- c = 2.5\n",
    "- d = 0.38"
   ]
  },
  {
   "cell_type": "markdown",
   "metadata": {},
   "source": [
    "### Step 6  : Calculate person-months required"
   ]
  },
  {
   "cell_type": "code",
   "execution_count": 159,
   "metadata": {},
   "outputs": [
    {
     "name": "stdout",
     "output_type": "stream",
     "text": [
      "Person Estimated: 315.00 months\n"
     ]
    }
   ],
   "source": [
    "# Calculate person-months required\n",
    "person_months = effort_days / 22;\n",
    "print(f\"Person Estimated: {person_months:.2f} months\")"
   ]
  },
  {
   "cell_type": "markdown",
   "metadata": {},
   "source": [
    "Determining the estimated person-months required for the project"
   ]
  },
  {
   "cell_type": "markdown",
   "metadata": {},
   "source": [
    "### Step 7 : Role-based Effort Allocation"
   ]
  },
  {
   "cell_type": "code",
   "execution_count": 162,
   "metadata": {},
   "outputs": [
    {
     "name": "stdout",
     "output_type": "stream",
     "text": [
      "                  Role  Estimated Effort (man-days)\n",
      "0   Back-end developer                      2702.70\n",
      "1  Front-end developer                      1801.80\n",
      "2     Mobile developer                      1212.75\n",
      "3            QA tester                       900.90\n",
      "4      Project manager                       311.85\n"
     ]
    }
   ],
   "source": [
    "# Define roles\n",
    "roles = [\"Back-end developer\", \"Front-end developer\", \"Mobile developer\", \"QA tester\", \"Project manager\"]\n",
    "\n",
    "# Collect role's percentage\n",
    "percentages = [39, 26, 17.5, 13, 4.5]\n",
    "\n",
    "# percentages = []\n",
    "# for role in roles:\n",
    "#     while True:\n",
    "#         try:\n",
    "#             percentage = float(input(f\"Enter percentage for {role}: \"))\n",
    "#             if 0 <= percentage <= 100:\n",
    "#                 break\n",
    "#             else:\n",
    "#                 print(\"Please enter a valid percentage between 0 and 100.\")\n",
    "#         except ValueError:\n",
    "#             print(\"Please enter a valid number.\")\n",
    "#     percentages.append(percentage)\n",
    "\n",
    "# # Ensure percentages add up to 100%\n",
    "# if sum(percentages) != 100:\n",
    "#     print(\"Warning: Percentages do not add up to 100%. They will be normalized.\")\n",
    "#     percentages = [percentage / sum(percentages) * 100 for percentage in percentages]  # Normalize\n",
    "\n",
    "# Calculate effort_days based on percentages\n",
    "allocation = [effort_days * (percentage / 100) for percentage in percentages]\n",
    "\n",
    "# Create DataFrame with roles and effort_days\n",
    "role_effort_df = pd.DataFrame({\"Role\": roles, \"Estimated Effort (man-days)\": allocation})\n",
    "\n",
    "# Print the DataFrame\n",
    "print(role_effort_df)"
   ]
  },
  {
   "cell_type": "markdown",
   "metadata": {},
   "source": [
    "Allocating effort estimates to different roles and creating DataFrame for better organization"
   ]
  },
  {
   "cell_type": "markdown",
   "metadata": {},
   "source": [
    "**Here's a breakdown of how the estimated effort for each role was derived, based on the COCOMO model and project-specific considerations:**\n",
    "\n",
    "**1. Initial Effort Calculation:**\n",
    "\n",
    "- **Total estimated effort (man-days) = (?)** (as previously calculated using COCOMO with on Step 4)\n",
    "\n",
    "**2. Role-Based Effort Allocation:**\n",
    "\n",
    "- Back-end developer:\n",
    "  - Estimated to require the most effort due to:\n",
    "    - Development of core server-side logic, database interactions, and API integrations.\n",
    "    - Potential for handling sensitive healthcare data, requiring additional security measures.\n",
    "- Front-end developer:\n",
    "  - Responsible for user interface development, which often involves:\n",
    "    - Design and implementation of multiple screens, forms, and interactions.\n",
    "    - Ensuring usability and responsiveness across different devices.\n",
    "- Mobile developer:\n",
    "  - Focused on developing native mobile apps, which typically:\n",
    "    - Have a smaller scope compared to the overall backend and frontend.\n",
    "    - May involve platform-specific considerations and optimizations.\n",
    "- QA tester:\n",
    "  - Allocated time for comprehensive testing of:\n",
    "    - Functionality, usability, performance, and security.\n",
    "    - Ensuring adherence to healthcare industry regulations.\n",
    "- Project manager:\n",
    "  - Responsible for planning, coordination, and oversight, but:\n",
    "    - Not directly involved in development tasks as much as other roles.\n",
    "\n",
    "\n",
    "**3. Benchmarking for Effort Distribution:**\n",
    "\n",
    "- While there's no universally accepted benchmark for effort distribution across roles,\n",
    "\n",
    "  common practices and industry norms were considered:\n",
    "\n",
    "  - Back-end development often accounts for a larger portion of effort in web-based applications, especially those with complex data management and integrations.\n",
    "  - Front-end development's effort allocation aligns with typical web app development patterns.\n",
    "  - Mobile development effort is adjusted based on the scope of the mobile apps and their integration with the backend.\n",
    "  - QA testing effort is proportionate to the overall project size and complexity, ensuring quality assurance.\n",
    "  - Project management effort is estimated based on industry standards for project management tasks and activities.\n",
    "\n",
    "**Important Considerations:**\n",
    "\n",
    "- These estimates are based on assumptions and initial project understanding.\n",
    "- Actual effort may vary depending on:\n",
    "  - Specific requirements\n",
    "  - Team experience\n",
    "  - Development tools\n",
    "  - Unexpected challenges\n",
    "- It's crucial to:\n",
    "  - Regularly review and adjust estimates as the project progresses.\n",
    "  - Involve team members in estimation and planning for more accurate assessments."
   ]
  },
  {
   "cell_type": "markdown",
   "metadata": {},
   "source": [
    "### Step 8 : Plotting the Role-Based Effort Allocation"
   ]
  },
  {
   "cell_type": "code",
   "execution_count": 163,
   "metadata": {},
   "outputs": [
    {
     "data": {
      "image/png": "[encoded data removed]",
      "text/plain": [
       "<Figure size 1000x600 with 1 Axes>"
      ]
     },
     "metadata": {},
     "output_type": "display_data"
    }
   ],
   "source": [
    "# Plotting the Role-Based Effort Allocation\n",
    "plt.figure(figsize=(10, 6))\n",
    "plt.bar(roles, allocation, color=['blue', 'orange', 'green', 'red', 'purple'])\n",
    "plt.title('Role-Based Effort Allocation')\n",
    "plt.xlabel('Roles')\n",
    "plt.ylabel('Estimated Effort (man-days)')\n",
    "plt.show()"
   ]
  },
  {
   "cell_type": "markdown",
   "metadata": {},
   "source": [
    "### Conclusion\n",
    "This step-by-step approach outlines the process of applying the COCOMO model for project estimation, including parameter setup, calculation of effort, role-based effort allocation, and visualization. The results provide valuable insights into resource requirements for the healthcare app development project."
   ]
  },
  {
   "cell_type": "markdown",
   "metadata": {},
   "source": [
    "#### References\n",
    "\n",
    "*Software Engineering | COCOMO Model - javatpoint*. (n.d.). www.javatpoint.com. https://www.javatpoint.com/cocomo-model\n",
    "\n",
    "GeeksforGeeks. (2023, December 26). *COCOMO Model Software Engineering*. https://www.geeksforgeeks.org/software-engineering-cocomo-model/"
   ]
  }
 ],
 "metadata": {
  "kernelspec": {
   "display_name": "bol_datascience_course",
   "language": "python",
   "name": "python3"
  },
  "language_info": {
   "codemirror_mode": {
    "name": "ipython",
    "version": 3
   },
   "file_extension": ".py",
   "mimetype": "text/x-python",
   "name": "python",
   "nbconvert_exporter": "python",
   "pygments_lexer": "ipython3",
   "version": "3.8.18"
  }
 },
 "nbformat": 4,
 "nbformat_minor": 2
}
